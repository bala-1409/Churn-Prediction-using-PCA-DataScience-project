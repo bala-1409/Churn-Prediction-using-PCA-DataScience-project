{
 "cells": [
  {
   "cell_type": "markdown",
   "id": "61bd9728",
   "metadata": {},
   "source": [
    "# PCA  Churn Prediction- Bank Data"
   ]
  },
  {
   "cell_type": "markdown",
   "id": "c719f314",
   "metadata": {},
   "source": [
    "**_Importing The Required Libraries & Packages_**"
   ]
  },
  {
   "cell_type": "code",
   "execution_count": 1,
   "id": "dbfdec61",
   "metadata": {},
   "outputs": [],
   "source": [
    "import numpy as np\n",
    "import pandas as pd\n",
    "import matplotlib.pyplot as plt\n",
    "import os\n",
    "import seaborn as sns\n",
    "from sklearn.decomposition import PCA\n",
    "from sklearn.preprocessing import StandardScaler\n",
    "from matplotlib.pylab import rcParams\n",
    "rcParams['figure.figsize']=(15,10)\n",
    "import warnings\n",
    "warnings.filterwarnings('ignore')\n",
    "from sklearn.ensemble import RandomForestClassifier\n",
    "import pickle\n",
    "from sklearn.linear_model import LogisticRegression\n",
    "from sklearn.tree import DecisionTreeClassifier\n",
    "from sklearn.model_selection import train_test_split\n",
    "from sklearn.metrics import accuracy_score,confusion_matrix,classification_report"
   ]
  },
  {
   "cell_type": "markdown",
   "id": "6b04c394",
   "metadata": {},
   "source": [
    "**_Changing The Default Working Directory & Path and Reading The Dataset Using Pandas Command_**"
   ]
  },
  {
   "cell_type": "code",
   "execution_count": 2,
   "id": "8fac5b0d",
   "metadata": {},
   "outputs": [
    {
     "data": {
      "text/html": [
       "<div>\n",
       "<style scoped>\n",
       "    .dataframe tbody tr th:only-of-type {\n",
       "        vertical-align: middle;\n",
       "    }\n",
       "\n",
       "    .dataframe tbody tr th {\n",
       "        vertical-align: top;\n",
       "    }\n",
       "\n",
       "    .dataframe thead th {\n",
       "        text-align: right;\n",
       "    }\n",
       "</style>\n",
       "<table border=\"1\" class=\"dataframe\">\n",
       "  <thead>\n",
       "    <tr style=\"text-align: right;\">\n",
       "      <th></th>\n",
       "      <th>Index</th>\n",
       "      <th>Interest</th>\n",
       "      <th>Credit</th>\n",
       "      <th>Gender</th>\n",
       "      <th>Previous</th>\n",
       "      <th>Duration</th>\n",
       "      <th>Churn</th>\n",
       "    </tr>\n",
       "  </thead>\n",
       "  <tbody>\n",
       "    <tr>\n",
       "      <th>0</th>\n",
       "      <td>0</td>\n",
       "      <td>17546.0</td>\n",
       "      <td>1</td>\n",
       "      <td>0.0</td>\n",
       "      <td>0.0</td>\n",
       "      <td>48.0</td>\n",
       "      <td>NO</td>\n",
       "    </tr>\n",
       "    <tr>\n",
       "      <th>1</th>\n",
       "      <td>1</td>\n",
       "      <td>30085.1</td>\n",
       "      <td>3</td>\n",
       "      <td>1.0</td>\n",
       "      <td>1.0</td>\n",
       "      <td>40.0</td>\n",
       "      <td>YES</td>\n",
       "    </tr>\n",
       "    <tr>\n",
       "      <th>2</th>\n",
       "      <td>2</td>\n",
       "      <td>16575.4</td>\n",
       "      <td>0</td>\n",
       "      <td>0.0</td>\n",
       "      <td>1.0</td>\n",
       "      <td>51.0</td>\n",
       "      <td>YES</td>\n",
       "    </tr>\n",
       "    <tr>\n",
       "      <th>3</th>\n",
       "      <td>3</td>\n",
       "      <td>20375.4</td>\n",
       "      <td>3</td>\n",
       "      <td>0.0</td>\n",
       "      <td>0.0</td>\n",
       "      <td>23.0</td>\n",
       "      <td>YES</td>\n",
       "    </tr>\n",
       "    <tr>\n",
       "      <th>4</th>\n",
       "      <td>4</td>\n",
       "      <td>50576.3</td>\n",
       "      <td>0</td>\n",
       "      <td>0.0</td>\n",
       "      <td>0.0</td>\n",
       "      <td>57.0</td>\n",
       "      <td>NO</td>\n",
       "    </tr>\n",
       "  </tbody>\n",
       "</table>\n",
       "</div>"
      ],
      "text/plain": [
       "   Index  Interest  Credit  Gender  Previous  Duration Churn\n",
       "0      0   17546.0       1     0.0       0.0      48.0    NO\n",
       "1      1   30085.1       3     1.0       1.0      40.0   YES\n",
       "2      2   16575.4       0     0.0       1.0      51.0   YES\n",
       "3      3   20375.4       3     0.0       0.0      23.0   YES\n",
       "4      4   50576.3       0     0.0       0.0      57.0    NO"
      ]
     },
     "execution_count": 2,
     "metadata": {},
     "output_type": "execute_result"
    }
   ],
   "source": [
    "os.chdir('D:\\\\bala\\\\study things\\\\data science\\\\Batch 74 Day 19\\\\Batch 74 Day 19\\\\')\n",
    "df = pd.read_csv('Bank Data Dimension Reduction.csv')\n",
    "df.head()"
   ]
  },
  {
   "cell_type": "markdown",
   "id": "0d3332a0",
   "metadata": {},
   "source": [
    "## Data Cleaning\n",
    "**_Checking the Null values of all the Columns in the dataset_**"
   ]
  },
  {
   "cell_type": "code",
   "execution_count": 3,
   "id": "bf19c08c",
   "metadata": {},
   "outputs": [
    {
     "data": {
      "text/plain": [
       "Index        0\n",
       "Interest    68\n",
       "Credit       0\n",
       "Gender      21\n",
       "Previous     7\n",
       "Duration    70\n",
       "Churn        0\n",
       "dtype: int64"
      ]
     },
     "execution_count": 3,
     "metadata": {},
     "output_type": "execute_result"
    }
   ],
   "source": [
    "df.isnull().sum()"
   ]
  },
  {
   "cell_type": "markdown",
   "id": "f791f2ec",
   "metadata": {},
   "source": [
    "**_Checking the value counts for Gender columns_**"
   ]
  },
  {
   "cell_type": "code",
   "execution_count": 4,
   "id": "7289a74e",
   "metadata": {},
   "outputs": [
    {
     "data": {
      "text/plain": [
       "0.0    290\n",
       "1.0    289\n",
       "Name: Gender, dtype: int64"
      ]
     },
     "execution_count": 4,
     "metadata": {},
     "output_type": "execute_result"
    }
   ],
   "source": [
    "df.Gender.value_counts()"
   ]
  },
  {
   "cell_type": "markdown",
   "id": "56812613",
   "metadata": {},
   "source": [
    "**_Filling The null Values of the <span style=\"color:red\">Gender</span> column with the most frequent value_**"
   ]
  },
  {
   "cell_type": "code",
   "execution_count": 5,
   "id": "3533e401",
   "metadata": {},
   "outputs": [],
   "source": [
    "df['Gender']=df['Gender'].fillna(0)"
   ]
  },
  {
   "cell_type": "markdown",
   "id": "ac5b2b1e",
   "metadata": {},
   "source": [
    "**_Checking the value counts for Gender columns after updating it_**"
   ]
  },
  {
   "cell_type": "code",
   "execution_count": 6,
   "id": "5da8ffb6",
   "metadata": {
    "scrolled": true
   },
   "outputs": [
    {
     "data": {
      "text/plain": [
       "0.0    311\n",
       "1.0    289\n",
       "Name: Gender, dtype: int64"
      ]
     },
     "execution_count": 6,
     "metadata": {},
     "output_type": "execute_result"
    }
   ],
   "source": [
    "df.Gender.value_counts()"
   ]
  },
  {
   "cell_type": "markdown",
   "id": "45279f62",
   "metadata": {},
   "source": [
    "**_Checking the value counts for Previous columns_**"
   ]
  },
  {
   "cell_type": "code",
   "execution_count": 7,
   "id": "57f74d4d",
   "metadata": {},
   "outputs": [
    {
     "data": {
      "text/plain": [
       "0.0    302\n",
       "1.0    291\n",
       "Name: Previous, dtype: int64"
      ]
     },
     "execution_count": 7,
     "metadata": {},
     "output_type": "execute_result"
    }
   ],
   "source": [
    "df['Previous'].value_counts()"
   ]
  },
  {
   "cell_type": "markdown",
   "id": "13119599",
   "metadata": {},
   "source": [
    "**_Checking the value counts for <span style=\"color:red\">Previous</span> columns after updating it_**"
   ]
  },
  {
   "cell_type": "code",
   "execution_count": 8,
   "id": "6ef7fc9d",
   "metadata": {},
   "outputs": [],
   "source": [
    "df['Previous']=df['Previous'].fillna(0)"
   ]
  },
  {
   "cell_type": "markdown",
   "id": "b714c065",
   "metadata": {},
   "source": [
    "**_Checking the value counts for Previous columns after updating it_**"
   ]
  },
  {
   "cell_type": "code",
   "execution_count": 9,
   "id": "49fbf2e1",
   "metadata": {},
   "outputs": [
    {
     "data": {
      "text/plain": [
       "0.0    309\n",
       "1.0    291\n",
       "Name: Previous, dtype: int64"
      ]
     },
     "execution_count": 9,
     "metadata": {},
     "output_type": "execute_result"
    }
   ],
   "source": [
    "df['Previous'].value_counts()"
   ]
  },
  {
   "cell_type": "markdown",
   "id": "6eec9522",
   "metadata": {},
   "source": [
    "**_Filling the null values of the <span style=\"color:red\">Interest</span> column with mean value of the same column_**"
   ]
  },
  {
   "cell_type": "code",
   "execution_count": 10,
   "id": "a568ec35",
   "metadata": {},
   "outputs": [],
   "source": [
    "df['Interest'].fillna(df['Interest'].mean(),inplace=True)"
   ]
  },
  {
   "cell_type": "markdown",
   "id": "9358a865",
   "metadata": {},
   "source": [
    "**_Filling the null values of the <span style=\"color:red\">Duration</span> column with median value of the same column_**"
   ]
  },
  {
   "cell_type": "code",
   "execution_count": 11,
   "id": "62bcf1ff",
   "metadata": {},
   "outputs": [],
   "source": [
    "df['Duration'].fillna(df['Duration'].median(),inplace=True)"
   ]
  },
  {
   "cell_type": "markdown",
   "id": "ebcab4ec",
   "metadata": {},
   "source": [
    "**_Label Encoding the <span style=\"color:red\">Churn</span> column._**"
   ]
  },
  {
   "cell_type": "code",
   "execution_count": 12,
   "id": "1b419570",
   "metadata": {},
   "outputs": [],
   "source": [
    "df['Churn']=df['Churn'].astype('category')\n",
    "df['Churn']=df['Churn'].cat.codes"
   ]
  },
  {
   "cell_type": "markdown",
   "id": "00849556",
   "metadata": {},
   "source": [
    "**_Changing the data type of <span style=\"color:red\">Gender</span>,<span style=\"color:red\">Previous</span> column from 'Float' To 'Category'_**"
   ]
  },
  {
   "cell_type": "code",
   "execution_count": 13,
   "id": "d0db9f21",
   "metadata": {},
   "outputs": [],
   "source": [
    "df['Gender']=df['Gender'].astype('category')\n",
    "df['Previous']=df['Previous'].astype('category')"
   ]
  },
  {
   "cell_type": "markdown",
   "id": "6c5f6f50",
   "metadata": {},
   "source": [
    "**_Dropping the column <span style=\"color:red\">Index</span> from the data column which is not required._**"
   ]
  },
  {
   "cell_type": "code",
   "execution_count": 14,
   "id": "cfbc7619",
   "metadata": {},
   "outputs": [],
   "source": [
    "df.drop(['Index'],axis=1,inplace=True)"
   ]
  },
  {
   "cell_type": "markdown",
   "id": "b3acaeb1",
   "metadata": {},
   "source": [
    "**_Assigning the dependent and independent variables_**"
   ]
  },
  {
   "cell_type": "code",
   "execution_count": 15,
   "id": "f8e8c464",
   "metadata": {},
   "outputs": [],
   "source": [
    "x = df.iloc[:,:-1]\n",
    "y = df.iloc[:,-1]"
   ]
  },
  {
   "cell_type": "markdown",
   "id": "f6eebf35",
   "metadata": {},
   "source": [
    "## Data Preprocessing\n",
    "**_Standardizing the independent variable of the dataset_**"
   ]
  },
  {
   "cell_type": "code",
   "execution_count": 16,
   "id": "09a3989a",
   "metadata": {},
   "outputs": [],
   "source": [
    "sc_x = StandardScaler()\n",
    "x = sc_x.fit_transform(x)"
   ]
  },
  {
   "cell_type": "markdown",
   "id": "5019d9f7",
   "metadata": {},
   "source": [
    "**_Processing the independent variable with principal component analysis to get the importance of all the columns in the independent variable_**"
   ]
  },
  {
   "cell_type": "code",
   "execution_count": 17,
   "id": "df932b4e",
   "metadata": {
    "scrolled": true
   },
   "outputs": [],
   "source": [
    "pca = PCA()\n",
    "pca_x = pca.fit_transform(x)"
   ]
  },
  {
   "cell_type": "markdown",
   "id": "e856662e",
   "metadata": {},
   "source": [
    "**_Getting the numeric value for the importance of column of the independent variable_**"
   ]
  },
  {
   "cell_type": "code",
   "execution_count": 18,
   "id": "aaaf7536",
   "metadata": {},
   "outputs": [
    {
     "data": {
      "text/plain": [
       "array([0.33943997, 0.20168854, 0.20083191, 0.18998087, 0.06805872])"
      ]
     },
     "metadata": {},
     "output_type": "display_data"
    }
   ],
   "source": [
    "display(pca.explained_variance_ratio_)"
   ]
  },
  {
   "cell_type": "markdown",
   "id": "d2470270",
   "metadata": {},
   "source": [
    "## Model Fitting\n",
    "**_Splitting the dependent and independent variable into training and test dataset using train test split._**"
   ]
  },
  {
   "cell_type": "code",
   "execution_count": 19,
   "id": "0511b097",
   "metadata": {},
   "outputs": [],
   "source": [
    "pca_x_train,pca_x_test,y_train,y_test = train_test_split(pca_x,y,test_size=0.2,random_state=33)"
   ]
  },
  {
   "cell_type": "markdown",
   "id": "6d763a01",
   "metadata": {},
   "source": [
    "**_Fitting the Random Forest Classifier Model with the dependent train and independent train variable and getting the algorithm,accuracy score,classification report and confusion matrix between the predicted values and dependent test dataset_**"
   ]
  },
  {
   "cell_type": "code",
   "execution_count": 20,
   "id": "3d7a0865",
   "metadata": {},
   "outputs": [
    {
     "name": "stdout",
     "output_type": "stream",
     "text": [
      "Accuracy 67.5 %\n",
      "\n",
      " Classification Report               precision    recall  f1-score   support\n",
      "\n",
      "           0       0.00      0.00      0.00        11\n",
      "           1       0.88      0.74      0.81       109\n",
      "\n",
      "    accuracy                           0.68       120\n",
      "   macro avg       0.44      0.37      0.40       120\n",
      "weighted avg       0.80      0.68      0.73       120\n",
      "\n",
      "\n",
      " Confusion Matrix [[ 0 28]\n",
      " [11 81]]\n"
     ]
    }
   ],
   "source": [
    "RF = RandomForestClassifier(random_state=99)\n",
    "RF.fit(pca_x_train,y_train)\n",
    "pca_y_pred  = RF.predict(pca_x_test)\n",
    "print('Accuracy {} %'.format(100*accuracy_score(pca_y_pred,y_test)))\n",
    "print('\\n Classification Report',classification_report(pca_y_pred,y_test))\n",
    "print('\\n Confusion Matrix',confusion_matrix(y_test,pca_y_pred))"
   ]
  },
  {
   "cell_type": "markdown",
   "id": "2575d999",
   "metadata": {},
   "source": [
    "**_Fitting the Logistic Regression Model with the dependent train and independent train variable and getting the algorithm,accuracy score,classification report and confusion matrix between the predicted values and dependent test dataset_**"
   ]
  },
  {
   "cell_type": "code",
   "execution_count": 21,
   "id": "9980dcba",
   "metadata": {},
   "outputs": [
    {
     "name": "stdout",
     "output_type": "stream",
     "text": [
      "Accuracy 76.66666666666667%\n",
      "Classification Report               precision    recall  f1-score   support\n",
      "\n",
      "           0       0.00      0.00      0.00        28\n",
      "           1       0.77      1.00      0.87        92\n",
      "\n",
      "    accuracy                           0.77       120\n",
      "   macro avg       0.38      0.50      0.43       120\n",
      "weighted avg       0.59      0.77      0.67       120\n",
      " \n",
      "\n",
      "Confusion Matrix [[ 0  0]\n",
      " [28 92]]\n"
     ]
    }
   ],
   "source": [
    "LR = LogisticRegression()\n",
    "LR.fit(pca_x_train,y_train)\n",
    "pca_y_pred = LR.predict(pca_x_test)\n",
    "print('Accuracy {}%'.format(100*accuracy_score(pca_y_pred,y_test),'\\n'))\n",
    "print('Classification Report',classification_report(y_test,pca_y_pred),'\\n')\n",
    "print('Confusion Matrix',confusion_matrix(pca_y_pred,y_test))"
   ]
  },
  {
   "cell_type": "markdown",
   "id": "67160dc3",
   "metadata": {},
   "source": [
    "**_Fitting the Decision Tree Classifier Model with the dependent train and independent train variable and getting the algorithm,accuracy score,classification report and confusion matrix between the predicted values and dependent test dataset_**"
   ]
  },
  {
   "cell_type": "code",
   "execution_count": 22,
   "id": "14c1d28b",
   "metadata": {},
   "outputs": [
    {
     "name": "stdout",
     "output_type": "stream",
     "text": [
      "Accuracy 58.333333333333336%\n",
      "Classification Report               precision    recall  f1-score   support\n",
      "\n",
      "           0       0.18      0.21      0.19        28\n",
      "           1       0.74      0.70      0.72        92\n",
      "\n",
      "    accuracy                           0.58       120\n",
      "   macro avg       0.46      0.45      0.46       120\n",
      "weighted avg       0.61      0.58      0.60       120\n",
      " \n",
      "\n",
      "Confusion Matrix [[ 6 28]\n",
      " [22 64]]\n"
     ]
    }
   ],
   "source": [
    "DT = DecisionTreeClassifier(random_state=99)\n",
    "DT.fit(pca_x_train,y_train)\n",
    "pca_y_pred = DT.predict(pca_x_test)\n",
    "print('Accuracy {}%'.format(100*accuracy_score(pca_y_pred,y_test),'\\n'))\n",
    "print('Classification Report',classification_report(y_test,pca_y_pred),'\\n')\n",
    "print('Confusion Matrix',confusion_matrix(pca_y_pred,y_test))"
   ]
  },
  {
   "cell_type": "markdown",
   "id": "15ed0f74",
   "metadata": {},
   "source": [
    "## Dimensional Reduction\n",
    "**_Processing the independent variable with principal component analysis of 2 components to get the importance of all the columns in the independent variable_**"
   ]
  },
  {
   "cell_type": "code",
   "execution_count": 23,
   "id": "577ff288",
   "metadata": {},
   "outputs": [],
   "source": [
    "pca = PCA(n_components=2)\n",
    "pca_x = pca.fit_transform(x)"
   ]
  },
  {
   "cell_type": "markdown",
   "id": "282e051d",
   "metadata": {},
   "source": [
    "**_Getting the numeric value for the importance of column of the independent variable after reducing its dimension_**"
   ]
  },
  {
   "cell_type": "code",
   "execution_count": 24,
   "id": "07681efe",
   "metadata": {},
   "outputs": [
    {
     "data": {
      "text/plain": [
       "array([0.33943997, 0.20168854])"
      ]
     },
     "execution_count": 24,
     "metadata": {},
     "output_type": "execute_result"
    }
   ],
   "source": [
    "pca.explained_variance_ratio_"
   ]
  },
  {
   "cell_type": "markdown",
   "id": "191f84ff",
   "metadata": {},
   "source": [
    "**_Splitting the dependent and independent variable into training and test dataset using train test split after reducing its dimension of the independent variable_**"
   ]
  },
  {
   "cell_type": "code",
   "execution_count": 25,
   "id": "b43321c9",
   "metadata": {},
   "outputs": [],
   "source": [
    "pca_x_train,pca_x_test,y_train,y_test = train_test_split(pca_x,y,test_size=0.2,random_state=33)"
   ]
  },
  {
   "cell_type": "markdown",
   "id": "b371eeeb",
   "metadata": {},
   "source": [
    "**_Fitting the Logistic Regression Model with the dependent train and independent train variable and getting the algorithm,accuracy score,classification report and confusion matrix between the predicted values and dependent test dataset after, reducing the dimensions of the independent variable_**"
   ]
  },
  {
   "cell_type": "code",
   "execution_count": 26,
   "id": "92790175",
   "metadata": {
    "scrolled": true
   },
   "outputs": [
    {
     "name": "stdout",
     "output_type": "stream",
     "text": [
      "Accuracy score 76.66666666666667%\n",
      "Classification Report               precision    recall  f1-score   support\n",
      "\n",
      "           0       0.00      0.00      0.00        28\n",
      "           1       0.77      1.00      0.87        92\n",
      "\n",
      "    accuracy                           0.77       120\n",
      "   macro avg       0.38      0.50      0.43       120\n",
      "weighted avg       0.59      0.77      0.67       120\n",
      " \n",
      "\n",
      "Confusion Matrix [[ 0 28]\n",
      " [ 0 92]]\n"
     ]
    }
   ],
   "source": [
    "LR1 = LogisticRegression()\n",
    "LR1.fit(pca_x_train,y_train)\n",
    "LR_pred1 = LR1.predict(pca_x_test)\n",
    "print('Accuracy score {}%'.format(100*accuracy_score(y_test,LR_pred1)))\n",
    "print('Classification Report',classification_report(y_test,LR_pred1),'\\n')\n",
    "print('Confusion Matrix',confusion_matrix(y_test,LR_pred1))"
   ]
  },
  {
   "cell_type": "markdown",
   "id": "1f74ddae",
   "metadata": {},
   "source": [
    "**_Fitting the Decision Tree Classifier Model with the dependent train and independent train variable and getting the algorithm,accuracy score,classification report and confusion matrix between the predicted values and dependent test dataset after, reducing the dimensions of the independent variable_**"
   ]
  },
  {
   "cell_type": "code",
   "execution_count": 27,
   "id": "520cf648",
   "metadata": {},
   "outputs": [
    {
     "name": "stdout",
     "output_type": "stream",
     "text": [
      "Accuracy 62.5%\n",
      "Classification Report               precision    recall  f1-score   support\n",
      "\n",
      "           0       0.26      0.32      0.29        28\n",
      "           1       0.78      0.72      0.75        92\n",
      "\n",
      "    accuracy                           0.62       120\n",
      "   macro avg       0.52      0.52      0.52       120\n",
      "weighted avg       0.66      0.62      0.64       120\n",
      " \n",
      "\n",
      "Confusion Matrix [[ 9 26]\n",
      " [19 66]]\n"
     ]
    }
   ],
   "source": [
    "DT = DecisionTreeClassifier(random_state=99)\n",
    "DT.fit(pca_x_train,y_train)\n",
    "DT_pred = DT.predict(pca_x_test)\n",
    "print('Accuracy {}%'.format(100*accuracy_score(DT_pred,y_test),'\\n'))\n",
    "print('Classification Report',classification_report(y_test,DT_pred),'\\n')\n",
    "print('Confusion Matrix',confusion_matrix(DT_pred,y_test))"
   ]
  },
  {
   "cell_type": "markdown",
   "id": "b6d56f29",
   "metadata": {},
   "source": [
    "**_Fitting the Random Forest Classifier Model with the dependent train and independent train variable and getting the algorithm,accuracy score,classification report and confusion matrix between the predicted values and dependent test dataset after, reducing the dimensions of the independent variable_**"
   ]
  },
  {
   "cell_type": "code",
   "execution_count": 28,
   "id": "d87412e6",
   "metadata": {},
   "outputs": [
    {
     "name": "stdout",
     "output_type": "stream",
     "text": [
      "Accuracy 68.33333333333333 %\n",
      "\n",
      " Classification Report               precision    recall  f1-score   support\n",
      "\n",
      "           0       0.21      0.27      0.24        22\n",
      "           1       0.83      0.78      0.80        98\n",
      "\n",
      "    accuracy                           0.68       120\n",
      "   macro avg       0.52      0.52      0.52       120\n",
      "weighted avg       0.71      0.68      0.70       120\n",
      "\n",
      "\n",
      " Confusion Matrix [[ 6 16]\n",
      " [22 76]]\n"
     ]
    }
   ],
   "source": [
    "RF = RandomForestClassifier(random_state=99)\n",
    "RF.fit(pca_x_train,y_train)\n",
    "RF_pred  = RF.predict(pca_x_test)\n",
    "print('Accuracy {} %'.format(100*accuracy_score(RF_pred,y_test)))\n",
    "print('\\n Classification Report',classification_report(RF_pred,y_test))\n",
    "print('\\n Confusion Matrix',confusion_matrix(RF_pred,y_test))"
   ]
  },
  {
   "cell_type": "markdown",
   "id": "18afc5d0",
   "metadata": {},
   "source": [
    "**_Processing the independent variable with principal component analysis of 4 components to get the importance of all the columns in the independent variable_**"
   ]
  },
  {
   "cell_type": "code",
   "execution_count": 29,
   "id": "abf653b4",
   "metadata": {},
   "outputs": [
    {
     "data": {
      "text/plain": [
       "array([0.33943997, 0.20168854, 0.20083191, 0.18998087])"
      ]
     },
     "execution_count": 29,
     "metadata": {},
     "output_type": "execute_result"
    }
   ],
   "source": [
    "pca = PCA(n_components=4)\n",
    "pca_x = pca.fit_transform(x)\n",
    "pca.explained_variance_ratio_"
   ]
  },
  {
   "cell_type": "markdown",
   "id": "33d53492",
   "metadata": {},
   "source": [
    "**_Getting the numeric value for the importance of column of the independent variable after reducing its dimension_**"
   ]
  },
  {
   "cell_type": "code",
   "execution_count": 30,
   "id": "48310e65",
   "metadata": {},
   "outputs": [
    {
     "data": {
      "text/plain": [
       "array([0.33943997, 0.20168854, 0.20083191, 0.18998087])"
      ]
     },
     "execution_count": 30,
     "metadata": {},
     "output_type": "execute_result"
    }
   ],
   "source": [
    "pca.explained_variance_ratio_"
   ]
  },
  {
   "cell_type": "markdown",
   "id": "ad686e91",
   "metadata": {},
   "source": [
    "**_Splitting the dependent and independent variable into training and test dataset using train test split after reducing its dimension of the independent variable_**"
   ]
  },
  {
   "cell_type": "code",
   "execution_count": 31,
   "id": "4e1ce9d7",
   "metadata": {},
   "outputs": [],
   "source": [
    "pca_x_train,pca_x_test,y_train,y_test = train_test_split(pca_x,y,test_size=0.2,random_state=33)"
   ]
  },
  {
   "cell_type": "markdown",
   "id": "f25f2c77",
   "metadata": {},
   "source": [
    "**_Fitting the Logistic Regression Model with the dependent train and independent train variable and getting the algorithm,accuracy score,classification report and confusion matrix between the predicted values and dependent test dataset after, reducing the dimensions of the independent variable_**"
   ]
  },
  {
   "cell_type": "code",
   "execution_count": 32,
   "id": "ad702c37",
   "metadata": {
    "scrolled": true
   },
   "outputs": [
    {
     "name": "stdout",
     "output_type": "stream",
     "text": [
      "Accuracy score 76.66666666666667%\n",
      "Classification Report               precision    recall  f1-score   support\n",
      "\n",
      "           0       0.00      0.00      0.00        28\n",
      "           1       0.77      1.00      0.87        92\n",
      "\n",
      "    accuracy                           0.77       120\n",
      "   macro avg       0.38      0.50      0.43       120\n",
      "weighted avg       0.59      0.77      0.67       120\n",
      " \n",
      "\n",
      "Confusion Matrix [[ 0 28]\n",
      " [ 0 92]]\n"
     ]
    }
   ],
   "source": [
    "LR1 = LogisticRegression()\n",
    "LR1.fit(pca_x_train,y_train)\n",
    "LR_pred1 = LR1.predict(pca_x_test)\n",
    "print('Accuracy score {}%'.format(100*accuracy_score(y_test,LR_pred1)))\n",
    "print('Classification Report',classification_report(y_test,LR_pred1),'\\n')\n",
    "print('Confusion Matrix',confusion_matrix(y_test,LR_pred1))"
   ]
  },
  {
   "cell_type": "markdown",
   "id": "b0e4e5b4",
   "metadata": {},
   "source": [
    "**_Fitting the Decision Tree Classifier Model with the dependent train and independent train variable and getting the algorithm,accuracy score,classification report and confusion matrix between the predicted values and dependent test dataset after, reducing the dimensions of the independent variable_**"
   ]
  },
  {
   "cell_type": "code",
   "execution_count": 33,
   "id": "77394e43",
   "metadata": {},
   "outputs": [
    {
     "name": "stdout",
     "output_type": "stream",
     "text": [
      "Accuracy 56.666666666666664%\n",
      "Classification Report               precision    recall  f1-score   support\n",
      "\n",
      "           0       0.07      0.07      0.07        28\n",
      "           1       0.72      0.72      0.72        92\n",
      "\n",
      "    accuracy                           0.57       120\n",
      "   macro avg       0.39      0.39      0.39       120\n",
      "weighted avg       0.57      0.57      0.57       120\n",
      " \n",
      "\n",
      "Confusion Matrix [[ 2 26]\n",
      " [26 66]]\n"
     ]
    }
   ],
   "source": [
    "DT1 = DecisionTreeClassifier(random_state=99)\n",
    "DT1.fit(pca_x_train,y_train)\n",
    "DT_pred1 = DT1.predict(pca_x_test)\n",
    "print('Accuracy {}%'.format(100*accuracy_score(DT_pred1,y_test),'\\n'))\n",
    "print('Classification Report',classification_report(y_test,DT_pred1),'\\n')\n",
    "print('Confusion Matrix',confusion_matrix(DT_pred1,y_test))"
   ]
  },
  {
   "cell_type": "markdown",
   "id": "834ff206",
   "metadata": {},
   "source": [
    "**_Fitting the Random Forest Classifier Model with the dependent train and independent train variable and getting the algorithm,accuracy score,classification report and confusion matrix between the predicted values and dependent test dataset after, reducing the dimensions of the independent variable_**"
   ]
  },
  {
   "cell_type": "code",
   "execution_count": 34,
   "id": "6df1828f",
   "metadata": {},
   "outputs": [
    {
     "name": "stdout",
     "output_type": "stream",
     "text": [
      "Accuracy 65.83333333333333 %\n",
      "\n",
      " Classification Report               precision    recall  f1-score   support\n",
      "\n",
      "           0       0.11      0.16      0.13        19\n",
      "           1       0.83      0.75      0.79       101\n",
      "\n",
      "    accuracy                           0.66       120\n",
      "   macro avg       0.47      0.46      0.46       120\n",
      "weighted avg       0.71      0.66      0.68       120\n",
      "\n",
      "\n",
      " Confusion Matrix [[ 3 16]\n",
      " [25 76]]\n"
     ]
    }
   ],
   "source": [
    "RF1 = RandomForestClassifier(random_state=99)\n",
    "RF1.fit(pca_x_train,y_train)\n",
    "RF_pred1  = RF1.predict(pca_x_test)\n",
    "print('Accuracy {} %'.format(100*accuracy_score(RF_pred1,y_test)))\n",
    "print('\\n Classification Report',classification_report(RF_pred1,y_test))\n",
    "print('\\n Confusion Matrix',confusion_matrix(RF_pred1,y_test))"
   ]
  },
  {
   "cell_type": "markdown",
   "id": "5d58c340",
   "metadata": {},
   "source": [
    "**_Create the Pickle File of the model with the highest accuracy score with the model name_**"
   ]
  },
  {
   "cell_type": "code",
   "execution_count": 35,
   "id": "934a8931",
   "metadata": {},
   "outputs": [],
   "source": [
    "pickle.dump(LR,open('PCA High Acc.pkl','wb'))"
   ]
  },
  {
   "cell_type": "markdown",
   "id": "13df6be0",
   "metadata": {},
   "source": [
    "## Model Testing\n",
    "**_Loading the pickle file_**"
   ]
  },
  {
   "cell_type": "code",
   "execution_count": 36,
   "id": "c5eb8171",
   "metadata": {},
   "outputs": [],
   "source": [
    "model = pickle.load(open('PCA High Acc.pkl','rb'))"
   ]
  },
  {
   "cell_type": "markdown",
   "id": "1feae481",
   "metadata": {},
   "source": [
    "**_predicting the independent variable using the loaded pickle file and getting the accuracy score,confusion matrix,classifiaction report of the complete data_**"
   ]
  },
  {
   "cell_type": "code",
   "execution_count": 37,
   "id": "032d4791",
   "metadata": {},
   "outputs": [
    {
     "name": "stdout",
     "output_type": "stream",
     "text": [
      "Accuracy 75.83333333333333 %\n",
      "\n",
      " Classification Report               precision    recall  f1-score   support\n",
      "\n",
      "           0       0.00      0.00      0.00         0\n",
      "           1       1.00      0.76      0.86       600\n",
      "\n",
      "    accuracy                           0.76       600\n",
      "   macro avg       0.50      0.38      0.43       600\n",
      "weighted avg       1.00      0.76      0.86       600\n",
      "\n",
      "\n",
      " Confusion Matrix [[  0   0]\n",
      " [145 455]]\n"
     ]
    }
   ],
   "source": [
    "y_pred = model.predict(x)\n",
    "print('Accuracy {} %'.format(100*accuracy_score(y_pred,y)))\n",
    "print('\\n Classification Report',classification_report(y_pred,y))\n",
    "print('\\n Confusion Matrix',confusion_matrix(y_pred,y))"
   ]
  },
  {
   "cell_type": "markdown",
   "id": "7e522896",
   "metadata": {},
   "source": [
    "**_Plotting the Line Graph to represent the accuracy between predicted value and actual value and saving the PNG file_**"
   ]
  },
  {
   "cell_type": "code",
   "execution_count": 38,
   "id": "42a6b749",
   "metadata": {
    "scrolled": false
   },
   "outputs": [
    {
     "data": {
      "image/png": "[encoded data removed]",
      "text/plain": [
       "<Figure size 1500x1000 with 1 Axes>"
      ]
     },
     "metadata": {},
     "output_type": "display_data"
    }
   ],
   "source": [
    "sns.set_style('darkgrid')\n",
    "plt.plot(y,y_pred)\n",
    "plt.xlabel('Actual Value')\n",
    "plt.ylabel('Predicted value')\n",
    "plt.title('Accuracy of the predicted value and actual value')\n",
    "plt.savefig('Accuracy of the predicted value and actual value.png')\n",
    "plt.show()"
   ]
  }
 ],
 "metadata": {
  "kernelspec": {
   "display_name": "Python 3 (ipykernel)",
   "language": "python",
   "name": "python3"
  },
  "language_info": {
   "codemirror_mode": {
    "name": "ipython",
    "version": 3
   },
   "file_extension": ".py",
   "mimetype": "text/x-python",
   "name": "python",
   "nbconvert_exporter": "python",
   "pygments_lexer": "ipython3",
   "version": "3.9.13"
  }
 },
 "nbformat": 4,
 "nbformat_minor": 5
}
